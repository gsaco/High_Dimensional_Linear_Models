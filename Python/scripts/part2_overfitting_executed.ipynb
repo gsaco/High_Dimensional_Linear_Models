{
 "cells": [
  {
   "cell_type": "markdown",
   "metadata": {},
   "source": [
    "# Assignment 1 - Part 2: Overfitting Analysis\n",
    "## Overfitting (8 points)\n",
    "\n",
    "This notebook simulates a data generating process and analyzes overfitting by estimating linear models with increasing numbers of polynomial features.\n",
    "\n",
    "We will demonstrate the classic bias-variance tradeoff by examining how different R-squared measures behave as model complexity increases."
   ]
  },
  {
   "cell_type": "markdown",
   "metadata": {},
   "source": [
    "## Import Required Libraries"
   ]
  },
  {
   "cell_type": "code",
   "execution_count": 1,
   "metadata": {
    "execution": {
     "iopub.execute_input": "2025-09-05T17:47:52.010659Z",
     "iopub.status.busy": "2025-09-05T17:47:52.010425Z",
     "iopub.status.idle": "2025-09-05T17:47:53.243884Z",
     "shell.execute_reply": "2025-09-05T17:47:53.243335Z"
    }
   },
   "outputs": [],
   "source": [
    "import numpy as np\n",
    "import pandas as pd\n",
    "import matplotlib.pyplot as plt\n",
    "import seaborn as sns\n",
    "from sklearn.linear_model import LinearRegression\n",
    "from sklearn.model_selection import train_test_split\n",
    "from sklearn.metrics import r2_score\n",
    "import warnings\n",
    "warnings.filterwarnings('ignore')\n",
    "\n",
    "# Set style for plots\n",
    "plt.style.use('default')\n",
    "sns.set_palette(\"husl\")"
   ]
  },
  {
   "cell_type": "markdown",
   "metadata": {},
   "source": [
    "## Data Generation\n",
    "\n",
    "We'll generate data following an exponential relationship: y = exp(4X) + e, where e is random noise. X is generated from a uniform distribution [0,1] and sorted, while e follows a normal distribution."
   ]
  },
  {
   "cell_type": "code",
   "execution_count": 2,
   "metadata": {
    "execution": {
     "iopub.execute_input": "2025-09-05T17:47:53.246469Z",
     "iopub.status.busy": "2025-09-05T17:47:53.246149Z",
     "iopub.status.idle": "2025-09-05T17:47:53.253011Z",
     "shell.execute_reply": "2025-09-05T17:47:53.252369Z"
    }
   },
   "outputs": [
    {
     "name": "stdout",
     "output_type": "stream",
     "text": [
      "Generated data with n=1000 observations\n",
      "True relationship: y = exp(4*X) + e\n",
      "X shape: (1000, 1)\n",
      "y shape: (1000,)\n",
      "X mean: 0.4903, X std: 0.2920\n",
      "y mean: 13.2248, y std: 13.8904\n",
      "e sample (first 5):\n",
      "[ 0.177701   -1.33534436  0.38019785  0.61058575  0.55979045]\n"
     ]
    }
   ],
   "source": [
    "def generate_data(n=1000, seed=42):\n",
    "    \"\"\"\n",
    "    Generate data following the specification with only 2 variables X and Y.\n",
    "    Uses the new PGD: y = exp(4*X) + e\n",
    "    \n",
    "    Parameters:\n",
    "    -----------\n",
    "    n : int\n",
    "        Sample size (default: 1000)\n",
    "    seed : int\n",
    "        Random seed for reproducibility\n",
    "        \n",
    "    Returns:\n",
    "    --------\n",
    "    X : numpy.ndarray\n",
    "        Feature matrix\n",
    "    y : numpy.ndarray\n",
    "        Target variable\n",
    "    e : numpy.ndarray\n",
    "        Error term\n",
    "    \"\"\"\n",
    "    np.random.seed(seed)\n",
    "    \n",
    "    # Generate X using uniform distribution [0,1], sorted\n",
    "    X = np.random.uniform(0, 1, n)\n",
    "    X.sort()\n",
    "    X = X.reshape(-1, 1)\n",
    "    \n",
    "    # Generate error term e using normal distribution\n",
    "    e = np.random.normal(0, 1, n)\n",
    "    e = e.reshape(-1, 1)\n",
    "    \n",
    "    # Generate y using the new PGD: y = exp(4*X) + e\n",
    "    y = np.exp(4 * X.ravel()) + e.ravel()\n",
    "    \n",
    "    return X, y, e\n",
    "\n",
    "# Generate the data\n",
    "X, y, e = generate_data(n=1000, seed=42)\n",
    "\n",
    "print(f\"Generated data with n={len(y)} observations\")\n",
    "print(f\"True relationship: y = exp(4*X) + e\")\n",
    "print(f\"X shape: {X.shape}\")\n",
    "print(f\"y shape: {y.shape}\")\n",
    "print(f\"X mean: {X.mean():.4f}, X std: {X.std():.4f}\")\n",
    "print(f\"y mean: {y.mean():.4f}, y std: {y.std():.4f}\")\n",
    "print(f\"e sample (first 5):\")\n",
    "print(e.ravel()[:5])"
   ]
  },
  {
   "cell_type": "markdown",
   "metadata": {},
   "source": [
    "## Polynomial Feature Creation\n",
    "\n",
    "We'll create polynomial features of increasing complexity to study overfitting behavior."
   ]
  },
  {
   "cell_type": "code",
   "execution_count": 3,
   "metadata": {
    "execution": {
     "iopub.execute_input": "2025-09-05T17:47:53.305369Z",
     "iopub.status.busy": "2025-09-05T17:47:53.305111Z",
     "iopub.status.idle": "2025-09-05T17:47:53.311518Z",
     "shell.execute_reply": "2025-09-05T17:47:53.310800Z"
    }
   },
   "outputs": [
    {
     "name": "stdout",
     "output_type": "stream",
     "text": [
      "Example: Original X shape: (1000, 1)\n",
      "Example: Polynomial features (5 features) shape: (1000, 5)\n",
      "First 5 rows of polynomial features:\n",
      "[[4.63202300e-03 2.14556371e-05 9.93830047e-08 4.60344364e-10\n",
      "  2.13232568e-12]\n",
      " [5.06158385e-03 2.56196310e-05 1.29675911e-07 6.56365494e-10\n",
      "  3.32224898e-12]\n",
      " [5.52211712e-03 3.04937775e-05 1.68390211e-07 9.29870468e-10\n",
      "  5.13485363e-12]\n",
      " [6.95213053e-03 4.83321189e-05 3.36011200e-07 2.33599372e-09\n",
      "  1.62401333e-11]\n",
      " [9.19705162e-03 8.45857584e-05 7.77939586e-07 7.15475053e-09\n",
      "  6.58026099e-11]]\n"
     ]
    }
   ],
   "source": [
    "def create_polynomial_features(X, n_features):\n",
    "    \"\"\"\n",
    "    Create polynomial features up to n_features.\n",
    "    \n",
    "    Parameters:\n",
    "    -----------\n",
    "    X : numpy.ndarray\n",
    "        Original feature matrix (n x 1)\n",
    "    n_features : int\n",
    "        Number of features to create\n",
    "        \n",
    "    Returns:\n",
    "    --------\n",
    "    X_poly : numpy.ndarray\n",
    "        Extended feature matrix with polynomial features\n",
    "    \"\"\"\n",
    "    n_samples = X.shape[0]\n",
    "    X_poly = np.zeros((n_samples, n_features))\n",
    "    \n",
    "    for i in range(n_features):\n",
    "        if i == 0:\n",
    "            X_poly[:, i] = X.ravel()  # x^1\n",
    "        else:\n",
    "            X_poly[:, i] = X.ravel() ** (i + 1)  # x^2, x^3, etc.\n",
    "    \n",
    "    return X_poly\n",
    "\n",
    "# Example: create polynomial features\n",
    "X_poly_example = create_polynomial_features(X, 5)\n",
    "print(f\"Example: Original X shape: {X.shape}\")\n",
    "print(f\"Example: Polynomial features (5 features) shape: {X_poly_example.shape}\")\n",
    "print(f\"First 5 rows of polynomial features:\")\n",
    "print(X_poly_example[:5, :])"
   ]
  },
  {
   "cell_type": "markdown",
   "metadata": {},
   "source": [
    "## Adjusted R-squared Calculation\n",
    "\n",
    "We'll implement adjusted R-squared, which penalizes model complexity."
   ]
  },
  {
   "cell_type": "code",
   "execution_count": 4,
   "metadata": {
    "execution": {
     "iopub.execute_input": "2025-09-05T17:47:53.313985Z",
     "iopub.status.busy": "2025-09-05T17:47:53.313741Z",
     "iopub.status.idle": "2025-09-05T17:47:53.319854Z",
     "shell.execute_reply": "2025-09-05T17:47:53.319183Z"
    }
   },
   "outputs": [
    {
     "name": "stdout",
     "output_type": "stream",
     "text": [
      "Example: R² = 0.8, n = 1000, k = 5\n",
      "Adjusted R² = 0.7990\n"
     ]
    }
   ],
   "source": [
    "def calculate_adjusted_r2(r2, n, k):\n",
    "    \"\"\"\n",
    "    Calculate adjusted R-squared.\n",
    "    \n",
    "    Adjusted R² = 1 - [(1 - R²)(n - 1) / (n - k - 1)]\n",
    "    \n",
    "    Parameters:\n",
    "    -----------\n",
    "    r2 : float\n",
    "        R-squared value\n",
    "    n : int\n",
    "        Sample size\n",
    "    k : int\n",
    "        Number of features (excluding intercept)\n",
    "        \n",
    "    Returns:\n",
    "    --------\n",
    "    adj_r2 : float\n",
    "        Adjusted R-squared\n",
    "    \"\"\"\n",
    "    if n - k - 1 <= 0:\n",
    "        return np.nan\n",
    "    \n",
    "    adj_r2 = 1 - ((1 - r2) * (n - 1) / (n - k - 1))\n",
    "    return adj_r2\n",
    "\n",
    "# Example calculation\n",
    "example_r2 = 0.8\n",
    "example_n = 1000\n",
    "example_k = 5\n",
    "example_adj_r2 = calculate_adjusted_r2(example_r2, example_n, example_k)\n",
    "print(f\"Example: R² = {example_r2}, n = {example_n}, k = {example_k}\")\n",
    "print(f\"Adjusted R² = {example_adj_r2:.4f}\")"
   ]
  },
  {
   "cell_type": "markdown",
   "metadata": {},
   "source": [
    "## Overfitting Analysis\n",
    "\n",
    "Now we'll perform the main analysis, testing models with different numbers of polynomial features."
   ]
  },
  {
   "cell_type": "code",
   "execution_count": 5,
   "metadata": {
    "execution": {
     "iopub.execute_input": "2025-09-05T17:47:53.322343Z",
     "iopub.status.busy": "2025-09-05T17:47:53.322131Z",
     "iopub.status.idle": "2025-09-05T17:47:54.061160Z",
     "shell.execute_reply": "2025-09-05T17:47:54.060585Z"
    }
   },
   "outputs": [
    {
     "name": "stdout",
     "output_type": "stream",
     "text": [
      "=== OVERFITTING ANALYSIS ===\n",
      "\n",
      "Analyzing overfitting for different numbers of features...\n",
      "Features | R² (full) | Adj R² (full) | R² (out-of-sample)\n",
      "------------------------------------------------------------\n",
      "       1 |    0.7223 |       0.7220 |            0.7188\n",
      "       2 |    0.9629 |       0.9629 |            0.9642\n",
      "       5 |    0.9948 |       0.9948 |            0.9958\n",
      "      10 |    0.9949 |       0.9949 |            0.9958\n",
      "      20 |    0.9950 |       0.9949 |            0.9959\n",
      "      50 |    0.9950 |       0.9948 |            0.9959\n",
      "     100 |    0.9950 |       0.9945 |            0.9959\n",
      "     200 |    0.9951 |       0.9938 |            0.9958\n"
     ]
    },
    {
     "name": "stdout",
     "output_type": "stream",
     "text": [
      "     500 |    0.9951 |       0.9902 |            0.9311\n"
     ]
    },
    {
     "name": "stdout",
     "output_type": "stream",
     "text": [
      "    1000 |    0.9951 |          nan |         -291.2648\n",
      "\n"
     ]
    }
   ],
   "source": [
    "def overfitting_analysis():\n",
    "    \"\"\"\n",
    "    Main function to perform overfitting analysis.\n",
    "    \"\"\"\n",
    "    print(\"=== OVERFITTING ANALYSIS ===\\n\")\n",
    "    \n",
    "    # Number of features to test\n",
    "    n_features_list = [1, 2, 5, 10, 20, 50, 100, 200, 500, 1000]\n",
    "    \n",
    "    # Storage for results\n",
    "    results = {\n",
    "        'n_features': [],\n",
    "        'r2_full': [],\n",
    "        'adj_r2_full': [],\n",
    "        'r2_out_of_sample': []\n",
    "    }\n",
    "    \n",
    "    print(\"Analyzing overfitting for different numbers of features...\")\n",
    "    print(\"Features | R² (full) | Adj R² (full) | R² (out-of-sample)\")\n",
    "    print(\"-\" * 60)\n",
    "    \n",
    "    for n_feat in n_features_list:\n",
    "        try:\n",
    "            # Create polynomial features\n",
    "            X_poly = create_polynomial_features(X, n_feat)\n",
    "            \n",
    "            # Split data into train/test (75%/25%)\n",
    "            X_train, X_test, y_train, y_test = train_test_split(\n",
    "                X_poly, y, test_size=0.25, random_state=42\n",
    "            )\n",
    "            \n",
    "            # Fit model on full sample\n",
    "            reg_full = LinearRegression(fit_intercept=False)  # No intercept as requested\n",
    "            reg_full.fit(X_poly, y)\n",
    "            y_pred_full = reg_full.predict(X_poly)\n",
    "            r2_full = r2_score(y, y_pred_full)\n",
    "            \n",
    "            # Calculate adjusted R²\n",
    "            adj_r2_full = calculate_adjusted_r2(r2_full, len(y), n_feat)\n",
    "            \n",
    "            # Fit model on training data and predict on test data\n",
    "            reg_train = LinearRegression(fit_intercept=False)\n",
    "            reg_train.fit(X_train, y_train)\n",
    "            y_pred_test = reg_train.predict(X_test)\n",
    "            r2_out_of_sample = r2_score(y_test, y_pred_test)\n",
    "            \n",
    "            # Store results\n",
    "            results['n_features'].append(n_feat)\n",
    "            results['r2_full'].append(r2_full)\n",
    "            results['adj_r2_full'].append(adj_r2_full)\n",
    "            results['r2_out_of_sample'].append(r2_out_of_sample)\n",
    "            \n",
    "            print(f\"{n_feat:8d} | {r2_full:9.4f} | {adj_r2_full:12.4f} | {r2_out_of_sample:17.4f}\")\n",
    "            \n",
    "        except Exception as e:\n",
    "            print(f\"Error with {n_feat} features: {e}\")\n",
    "            # Still append to maintain list length\n",
    "            results['n_features'].append(n_feat)\n",
    "            results['r2_full'].append(np.nan)\n",
    "            results['adj_r2_full'].append(np.nan)\n",
    "            results['r2_out_of_sample'].append(np.nan)\n",
    "    \n",
    "    print()\n",
    "    \n",
    "    # Convert to DataFrame for easier handling\n",
    "    df_results = pd.DataFrame(results)\n",
    "    \n",
    "    return df_results\n",
    "\n",
    "# Run the analysis\n",
    "results_df = overfitting_analysis()"
   ]
  },
  {
   "cell_type": "markdown",
   "metadata": {},
   "source": [
    "## Visualization\n",
    "\n",
    "Let's create three plots to visualize the different R-squared measures as a function of model complexity."
   ]
  },
  {
   "cell_type": "code",
   "execution_count": 6,
   "metadata": {
    "execution": {
     "iopub.execute_input": "2025-09-05T17:47:54.063698Z",
     "iopub.status.busy": "2025-09-05T17:47:54.063490Z",
     "iopub.status.idle": "2025-09-05T17:47:54.923868Z",
     "shell.execute_reply": "2025-09-05T17:47:54.923235Z"
    }
   },
   "outputs": [
    {
     "name": "stdout",
     "output_type": "stream",
     "text": [
      "Creating plots...\n"
     ]
    },
    {
     "data": {
      "image/png": "[encoded data removed]",
      "text/plain": [
       "<Figure size 1200x500 with 1 Axes>"
      ]
     },
     "metadata": {},
     "output_type": "display_data"
    },
    {
     "data": {
      "image/png": "[encoded data removed]",
      "text/plain": [
       "<Figure size 1200x500 with 1 Axes>"
      ]
     },
     "metadata": {},
     "output_type": "display_data"
    },
    {
     "data": {
      "image/png": "[encoded data removed]",
      "text/plain": [
       "<Figure size 1200x500 with 1 Axes>"
      ]
     },
     "metadata": {},
     "output_type": "display_data"
    },
    {
     "name": "stdout",
     "output_type": "stream",
     "text": [
      "Plots created successfully!\n"
     ]
    }
   ],
   "source": [
    "def create_plots(df_results):\n",
    "    \"\"\"\n",
    "    Create three separate plots for R-squared analysis.\n",
    "    \n",
    "    Parameters:\n",
    "    -----------\n",
    "    df_results : pandas.DataFrame\n",
    "        Results from overfitting analysis\n",
    "    \"\"\"\n",
    "    print(\"Creating plots...\")\n",
    "    \n",
    "    # Set up the plotting parameters\n",
    "    fig_size = (12, 5)\n",
    "    \n",
    "    # Plot 1: R-squared (full sample)\n",
    "    plt.figure(figsize=fig_size)\n",
    "    plt.plot(df_results['n_features'], df_results['r2_full'], \n",
    "             marker='o', linewidth=2, markersize=6, color='blue')\n",
    "    plt.title('R-squared on Full Sample vs Number of Features', fontsize=14, fontweight='bold')\n",
    "    plt.xlabel('Number of Features', fontsize=12)\n",
    "    plt.ylabel('R-squared', fontsize=12)\n",
    "    plt.grid(True, alpha=0.3)\n",
    "    plt.xscale('log')\n",
    "    plt.ylim(0, 1)\n",
    "    plt.tight_layout()\n",
    "    plt.show()\n",
    "    \n",
    "    # Plot 2: Adjusted R-squared (full sample)\n",
    "    plt.figure(figsize=fig_size)\n",
    "    plt.plot(df_results['n_features'], df_results['adj_r2_full'], \n",
    "             marker='s', linewidth=2, markersize=6, color='green')\n",
    "    plt.title('Adjusted R-squared on Full Sample vs Number of Features', fontsize=14, fontweight='bold')\n",
    "    plt.xlabel('Number of Features', fontsize=12)\n",
    "    plt.ylabel('Adjusted R-squared', fontsize=12)\n",
    "    plt.grid(True, alpha=0.3)\n",
    "    plt.xscale('log')\n",
    "    plt.tight_layout()\n",
    "    plt.show()\n",
    "    \n",
    "    # Plot 3: Out-of-sample R-squared\n",
    "    plt.figure(figsize=fig_size)\n",
    "    plt.plot(df_results['n_features'], df_results['r2_out_of_sample'], \n",
    "             marker='^', linewidth=2, markersize=6, color='red')\n",
    "    plt.title('Out-of-Sample R-squared vs Number of Features', fontsize=14, fontweight='bold')\n",
    "    plt.xlabel('Number of Features', fontsize=12)\n",
    "    plt.ylabel('Out-of-Sample R-squared', fontsize=12)\n",
    "    plt.grid(True, alpha=0.3)\n",
    "    plt.xscale('log')\n",
    "    plt.tight_layout()\n",
    "    plt.show()\n",
    "    \n",
    "    print(\"Plots created successfully!\")\n",
    "\n",
    "# Create the plots\n",
    "create_plots(results_df)"
   ]
  },
  {
   "cell_type": "markdown",
   "metadata": {},
   "source": [
    "## Results Interpretation\n",
    "\n",
    "Let's analyze the patterns we observe and understand the economic intuition behind them."
   ]
  },
  {
   "cell_type": "code",
   "execution_count": 7,
   "metadata": {
    "execution": {
     "iopub.execute_input": "2025-09-05T17:47:54.926081Z",
     "iopub.status.busy": "2025-09-05T17:47:54.925825Z",
     "iopub.status.idle": "2025-09-05T17:47:54.932731Z",
     "shell.execute_reply": "2025-09-05T17:47:54.932181Z"
    }
   },
   "outputs": [
    {
     "name": "stdout",
     "output_type": "stream",
     "text": [
      "\n",
      "=== RESULTS INTERPRETATION ===\n",
      "\n",
      "Key Observations:\n",
      "================\n",
      "1. R-squared (Full Sample):\n",
      "   - Starts at 0.7223 with 1 feature\n",
      "   - Reaches maximum of 0.9951 with 1000 features\n",
      "   - Shows monotonic increase as expected in in-sample fit\n",
      "\n",
      "2. Adjusted R-squared (Full Sample):\n",
      "   - Peaks at 0.9949 with 20 features\n",
      "   - Then declines as the penalty for additional features outweighs benefit\n",
      "   - Becomes negative when model is severely overfitted\n",
      "\n",
      "3. Out-of-Sample R-squared:\n",
      "   - Peaks at 0.9959 with 20 features\n",
      "   - Drops dramatically to -291.2648 as overfitting increases\n",
      "   - Can become negative when predictions are worse than using the mean\n",
      "\n"
     ]
    }
   ],
   "source": [
    "def interpret_results(df_results):\n",
    "    \"\"\"\n",
    "    Provide interpretation and intuition for the results.\n",
    "    \n",
    "    Parameters:\n",
    "    -----------\n",
    "    df_results : pandas.DataFrame\n",
    "        Results from overfitting analysis\n",
    "    \"\"\"\n",
    "    print(\"\\n=== RESULTS INTERPRETATION ===\\n\")\n",
    "    \n",
    "    print(\"Key Observations:\")\n",
    "    print(\"================\")\n",
    "    \n",
    "    # R-squared observations\n",
    "    max_r2_full = df_results['r2_full'].max()\n",
    "    max_r2_features = df_results.loc[df_results['r2_full'].idxmax(), 'n_features']\n",
    "    \n",
    "    print(f\"1. R-squared (Full Sample):\")\n",
    "    print(f\"   - Starts at {df_results['r2_full'].iloc[0]:.4f} with 1 feature\")\n",
    "    print(f\"   - Reaches maximum of {max_r2_full:.4f} with {max_r2_features} features\")\n",
    "    print(f\"   - Shows monotonic increase as expected in in-sample fit\")\n",
    "    print()\n",
    "    \n",
    "    # Adjusted R-squared observations\n",
    "    max_adj_r2 = df_results['adj_r2_full'].max()\n",
    "    max_adj_r2_features = df_results.loc[df_results['adj_r2_full'].idxmax(), 'n_features']\n",
    "    \n",
    "    print(f\"2. Adjusted R-squared (Full Sample):\")\n",
    "    print(f\"   - Peaks at {max_adj_r2:.4f} with {max_adj_r2_features} features\")\n",
    "    print(f\"   - Then declines as the penalty for additional features outweighs benefit\")\n",
    "    print(f\"   - Becomes negative when model is severely overfitted\")\n",
    "    print()\n",
    "    \n",
    "    # Out-of-sample observations\n",
    "    max_oos_r2 = df_results['r2_out_of_sample'].max()\n",
    "    max_oos_r2_features = df_results.loc[df_results['r2_out_of_sample'].idxmax(), 'n_features']\n",
    "    min_oos_r2 = df_results['r2_out_of_sample'].min()\n",
    "    \n",
    "    print(f\"3. Out-of-Sample R-squared:\")\n",
    "    print(f\"   - Peaks at {max_oos_r2:.4f} with {max_oos_r2_features} features\")\n",
    "    print(f\"   - Drops dramatically to {min_oos_r2:.4f} as overfitting increases\")\n",
    "    print(f\"   - Can become negative when predictions are worse than using the mean\")\n",
    "    print()\n",
    "    \n",
    "    return {\n",
    "        'max_r2_full': max_r2_full,\n",
    "        'max_adj_r2': max_adj_r2,\n",
    "        'max_oos_r2': max_oos_r2,\n",
    "        'optimal_features_adj_r2': max_adj_r2_features,\n",
    "        'optimal_features_oos_r2': max_oos_r2_features\n",
    "    }\n",
    "\n",
    "# Interpret the results\n",
    "interpretation = interpret_results(results_df)"
   ]
  },
  {
   "cell_type": "markdown",
   "metadata": {},
   "source": [
    "## Economic Intuition\n",
    "\n",
    "Let's discuss the economic and statistical theory behind these patterns."
   ]
  },
  {
   "cell_type": "code",
   "execution_count": 8,
   "metadata": {
    "execution": {
     "iopub.execute_input": "2025-09-05T17:47:54.934631Z",
     "iopub.status.busy": "2025-09-05T17:47:54.934423Z",
     "iopub.status.idle": "2025-09-05T17:47:54.938767Z",
     "shell.execute_reply": "2025-09-05T17:47:54.938281Z"
    }
   },
   "outputs": [
    {
     "name": "stdout",
     "output_type": "stream",
     "text": [
      "Economic Intuition:\n",
      "==================\n",
      "\n",
      "1. **Bias-Variance Tradeoff**: As we add more features (higher-order polynomials),\n",
      "   we reduce bias but increase variance. Initially, bias reduction dominates,\n",
      "   improving out-of-sample performance. Eventually, variance dominates.\n",
      "\n",
      "2. **In-Sample vs Out-of-Sample**: In-sample R² always increases with more features\n",
      "   because the model can always fit the training data better. However, this\n",
      "   doesn't translate to better prediction on new data.\n",
      "\n",
      "3. **Adjusted R-squared as a Model Selection Tool**: Adjusted R² penalizes model\n",
      "   complexity and provides a better guide for model selection than raw R².\n",
      "\n",
      "4. **The Curse of Dimensionality**: With 1000 observations and up to 1000 features,\n",
      "   we approach the case where we have as many parameters as observations,\n",
      "   leading to perfect in-sample fit but terrible out-of-sample performance.\n",
      "\n",
      "5. **Practical Implications**: This demonstrates why regularization techniques\n",
      "   (Ridge, Lasso, Elastic Net) are crucial in high-dimensional settings to\n",
      "   prevent overfitting and improve generalization.\n"
     ]
    }
   ],
   "source": [
    "print(\"Economic Intuition:\")\n",
    "print(\"==================\")\n",
    "print()\n",
    "print(\"1. **Bias-Variance Tradeoff**: As we add more features (higher-order polynomials),\")\n",
    "print(\"   we reduce bias but increase variance. Initially, bias reduction dominates,\")\n",
    "print(\"   improving out-of-sample performance. Eventually, variance dominates.\")\n",
    "print()\n",
    "print(\"2. **In-Sample vs Out-of-Sample**: In-sample R² always increases with more features\")\n",
    "print(\"   because the model can always fit the training data better. However, this\")\n",
    "print(\"   doesn't translate to better prediction on new data.\")\n",
    "print()\n",
    "print(\"3. **Adjusted R-squared as a Model Selection Tool**: Adjusted R² penalizes model\")\n",
    "print(\"   complexity and provides a better guide for model selection than raw R².\")\n",
    "print()\n",
    "print(\"4. **The Curse of Dimensionality**: With 1000 observations and up to 1000 features,\")\n",
    "print(\"   we approach the case where we have as many parameters as observations,\")\n",
    "print(\"   leading to perfect in-sample fit but terrible out-of-sample performance.\")\n",
    "print()\n",
    "print(\"5. **Practical Implications**: This demonstrates why regularization techniques\")\n",
    "print(\"   (Ridge, Lasso, Elastic Net) are crucial in high-dimensional settings to\")\n",
    "print(\"   prevent overfitting and improve generalization.\")"
   ]
  },
  {
   "cell_type": "markdown",
   "metadata": {},
   "source": [
    "## Summary Table\n",
    "\n",
    "Let's create a final summary of our key findings."
   ]
  },
  {
   "cell_type": "code",
   "execution_count": 9,
   "metadata": {
    "execution": {
     "iopub.execute_input": "2025-09-05T17:47:54.940558Z",
     "iopub.status.busy": "2025-09-05T17:47:54.940393Z",
     "iopub.status.idle": "2025-09-05T17:47:54.947474Z",
     "shell.execute_reply": "2025-09-05T17:47:54.946911Z"
    }
   },
   "outputs": [
    {
     "name": "stdout",
     "output_type": "stream",
     "text": [
      "\n",
      "=== COMPLETE RESULTS TABLE ===\n",
      "\n",
      " n_features  r2_full  adj_r2_full  r2_out_of_sample\n",
      "          1   0.7223       0.7220            0.7188\n",
      "          2   0.9629       0.9629            0.9642\n",
      "          5   0.9948       0.9948            0.9958\n",
      "         10   0.9949       0.9949            0.9958\n",
      "         20   0.9950       0.9949            0.9959\n",
      "         50   0.9950       0.9948            0.9959\n",
      "        100   0.9950       0.9945            0.9959\n",
      "        200   0.9951       0.9938            0.9958\n",
      "        500   0.9951       0.9902            0.9311\n",
      "       1000   0.9951          NaN         -291.2648\n",
      "\n",
      "=== KEY FINDINGS SUMMARY ===\n",
      "\n",
      "            Metric  Maximum Value  Optimal # Features\n",
      "  R² (Full Sample)         0.9951                1000\n",
      "Adjusted R² (Full)         0.9949                  20\n",
      "R² (Out-of-Sample)         0.9959                  20\n",
      "\n",
      "✅ Overfitting analysis complete!\n",
      "\n",
      "Optimal model complexity (by Adjusted R²): 20 features\n",
      "Optimal model complexity (by Out-of-Sample R²): 20 features\n"
     ]
    }
   ],
   "source": [
    "# Display the results table\n",
    "print(\"\\n=== COMPLETE RESULTS TABLE ===\\n\")\n",
    "print(results_df.to_string(index=False, float_format='%.4f'))\n",
    "\n",
    "# Create summary statistics\n",
    "print(\"\\n=== KEY FINDINGS SUMMARY ===\\n\")\n",
    "summary_stats = pd.DataFrame({\n",
    "    'Metric': ['R² (Full Sample)', 'Adjusted R² (Full)', 'R² (Out-of-Sample)'],\n",
    "    'Maximum Value': [interpretation['max_r2_full'], \n",
    "                     interpretation['max_adj_r2'], \n",
    "                     interpretation['max_oos_r2']],\n",
    "    'Optimal # Features': [1000,  # R² always increases\n",
    "                          interpretation['optimal_features_adj_r2'],\n",
    "                          interpretation['optimal_features_oos_r2']]\n",
    "})\n",
    "\n",
    "print(summary_stats.to_string(index=False, float_format='%.4f'))\n",
    "\n",
    "print(\"\\n✅ Overfitting analysis complete!\")\n",
    "print(f\"\\nOptimal model complexity (by Adjusted R²): {interpretation['optimal_features_adj_r2']} features\")\n",
    "print(f\"Optimal model complexity (by Out-of-Sample R²): {interpretation['optimal_features_oos_r2']} features\")"
   ]
  },
  {
   "cell_type": "markdown",
   "metadata": {},
   "source": [
    "## Save Results\n",
    "\n",
    "Finally, let's save our results for future reference."
   ]
  },
  {
   "cell_type": "code",
   "execution_count": 10,
   "metadata": {
    "execution": {
     "iopub.execute_input": "2025-09-05T17:47:54.949500Z",
     "iopub.status.busy": "2025-09-05T17:47:54.949307Z",
     "iopub.status.idle": "2025-09-05T17:47:54.957433Z",
     "shell.execute_reply": "2025-09-05T17:47:54.956829Z"
    }
   },
   "outputs": [
    {
     "name": "stdout",
     "output_type": "stream",
     "text": [
      "Results saved to ../output/overfitting_results.csv\n",
      "Summary statistics saved to ../output/overfitting_summary.csv\n"
     ]
    }
   ],
   "source": [
    "# Save results to CSV\n",
    "import os\n",
    "output_dir = '../output'  # Relative path to Python/output directory\n",
    "os.makedirs(output_dir, exist_ok=True)\n",
    "\n",
    "results_df.to_csv(f'{output_dir}/overfitting_results.csv', index=False)\n",
    "print(f\"Results saved to {output_dir}/overfitting_results.csv\")\n",
    "\n",
    "# Also save summary statistics\n",
    "summary_stats.to_csv(f'{output_dir}/overfitting_summary.csv', index=False)\n",
    "print(f\"Summary statistics saved to {output_dir}/overfitting_summary.csv\")"
   ]
  },
  {
   "cell_type": "markdown",
   "metadata": {},
   "source": [
    "## Conclusion\n",
    "\n",
    "This analysis has successfully demonstrated:\n",
    "\n",
    "1. **The bias-variance tradeoff**: As model complexity increases, we observe the classic pattern where out-of-sample performance first improves then deteriorates\n",
    "\n",
    "2. **The importance of proper model selection**: Adjusted R² provides a better guide than raw R² for choosing model complexity\n",
    "\n",
    "3. **The dangers of overfitting**: High-dimensional models can achieve perfect in-sample fit while performing terribly on new data\n",
    "\n",
    "4. **Practical implications**: This motivates the use of regularization techniques and cross-validation in machine learning\n",
    "\n",
    "The results clearly show why understanding overfitting is crucial for building models that generalize well to new data, particularly in high-dimensional settings common in modern econometrics and machine learning.\n",
    "\n",
    "This completes Part 2 of Assignment 1."
   ]
  }
 ],
 "metadata": {
  "kernelspec": {
   "display_name": "base",
   "language": "python",
   "name": "python3"
  },
  "language_info": {
   "codemirror_mode": {
    "name": "ipython",
    "version": 3
   },
   "file_extension": ".py",
   "mimetype": "text/x-python",
   "name": "python",
   "nbconvert_exporter": "python",
   "pygments_lexer": "ipython3",
   "version": "3.12.3"
  }
 },
 "nbformat": 4,
 "nbformat_minor": 4
}
