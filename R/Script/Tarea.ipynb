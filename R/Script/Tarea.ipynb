{
 "cells": [
  {
   "cell_type": "code",
   "execution_count": 8,
   "id": "49c1a81b-0faa-4a61-8cf4-b3680606aebe",
   "metadata": {},
   "outputs": [
    {
     "name": "stderr",
     "output_type": "stream",
     "text": [
      "── \u001b[1mAttaching core tidyverse packages\u001b[22m ──────────────────────────────────────────────────────────────── tidyverse 2.0.0 ──\n",
      "\u001b[32m✔\u001b[39m \u001b[34mdplyr    \u001b[39m 1.1.4     \u001b[32m✔\u001b[39m \u001b[34mstringr  \u001b[39m 1.5.1\n",
      "\u001b[32m✔\u001b[39m \u001b[34mforcats  \u001b[39m 1.0.0     \u001b[32m✔\u001b[39m \u001b[34mtibble   \u001b[39m 3.3.0\n",
      "\u001b[32m✔\u001b[39m \u001b[34mlubridate\u001b[39m 1.9.4     \u001b[32m✔\u001b[39m \u001b[34mtidyr    \u001b[39m 1.3.1\n",
      "\u001b[32m✔\u001b[39m \u001b[34mpurrr    \u001b[39m 1.1.0     \n",
      "── \u001b[1mConflicts\u001b[22m ────────────────────────────────────────────────────────────────────────────────── tidyverse_conflicts() ──\n",
      "\u001b[31m✖\u001b[39m \u001b[34mdplyr\u001b[39m::\u001b[32mfilter()\u001b[39m masks \u001b[34mstats\u001b[39m::filter()\n",
      "\u001b[31m✖\u001b[39m \u001b[34mdplyr\u001b[39m::\u001b[32mlag()\u001b[39m    masks \u001b[34mstats\u001b[39m::lag()\n",
      "\u001b[36mℹ\u001b[39m Use the conflicted package (\u001b[3m\u001b[34m<http://conflicted.r-lib.org/>\u001b[39m\u001b[23m) to force all conflicts to become errors\n"
     ]
    }
   ],
   "source": [
    "library(ggplot2)\n",
    "library(caTools)\n",
    "library(haven)\n",
    "library(readr)\n",
    "library(tidyverse)\n",
    "library(dplyr)"
   ]
  },
  {
   "cell_type": "markdown",
   "id": "4aff02eb-c7f6-4e92-95bd-658e076d94d1",
   "metadata": {},
   "source": [
    "# Real Data"
   ]
  },
  {
   "cell_type": "markdown",
   "id": "af9bd6f5-4d0c-49fa-9243-b4719076d9b4",
   "metadata": {},
   "source": [
    "## 3A"
   ]
  },
  {
   "cell_type": "code",
   "execution_count": 15,
   "id": "6051e2f6-f9ea-4491-9b98-137044a9e8a5",
   "metadata": {},
   "outputs": [],
   "source": [
    "setwd(\"C:/Users/VICTOR/Documents/GitHub/High_Dimensional_Linear_Models\")  "
   ]
  },
  {
   "cell_type": "code",
   "execution_count": 16,
   "id": "d0047cfd-c48b-4205-a8b7-f19888b6d744",
   "metadata": {},
   "outputs": [],
   "source": [
    "df <- read.csv(\"R/Input/apartments.csv\")       "
   ]
  },
  {
   "cell_type": "code",
   "execution_count": 18,
   "id": "cbe8d66f-cbee-4883-baf6-cdee1f0f3747",
   "metadata": {},
   "outputs": [
    {
     "data": {
      "text/html": [
       "<table class=\"dataframe\">\n",
       "<caption>A data.frame: 6 × 21</caption>\n",
       "<thead>\n",
       "\t<tr><th></th><th scope=col>id</th><th scope=col>price</th><th scope=col>month</th><th scope=col>area</th><th scope=col>type</th><th scope=col>rooms</th><th scope=col>centredistance</th><th scope=col>schooldistance</th><th scope=col>clinicdistance</th><th scope=col>postofficedistance</th><th scope=col>⋯</th><th scope=col>restaurantdistance</th><th scope=col>collegedistance</th><th scope=col>pharmacydistance</th><th scope=col>ownership</th><th scope=col>buildingmaterial</th><th scope=col>hasparkingspace</th><th scope=col>hasbalcony</th><th scope=col>haselevator</th><th scope=col>hassecurity</th><th scope=col>hasstorageroom</th></tr>\n",
       "\t<tr><th></th><th scope=col>&lt;chr&gt;</th><th scope=col>&lt;int&gt;</th><th scope=col>&lt;int&gt;</th><th scope=col>&lt;int&gt;</th><th scope=col>&lt;chr&gt;</th><th scope=col>&lt;int&gt;</th><th scope=col>&lt;dbl&gt;</th><th scope=col>&lt;dbl&gt;</th><th scope=col>&lt;dbl&gt;</th><th scope=col>&lt;dbl&gt;</th><th scope=col>⋯</th><th scope=col>&lt;dbl&gt;</th><th scope=col>&lt;dbl&gt;</th><th scope=col>&lt;dbl&gt;</th><th scope=col>&lt;chr&gt;</th><th scope=col>&lt;chr&gt;</th><th scope=col>&lt;chr&gt;</th><th scope=col>&lt;chr&gt;</th><th scope=col>&lt;chr&gt;</th><th scope=col>&lt;chr&gt;</th><th scope=col>&lt;chr&gt;</th></tr>\n",
       "</thead>\n",
       "<tbody>\n",
       "\t<tr><th scope=row>1</th><td>a01d82c9529f98a54d64b9e061c9a73b</td><td>1199999</td><td>1</td><td>105</td><td>apartmentBuilding</td><td>4</td><td>5.06</td><td>1.080</td><td>0.949</td><td>0.623</td><td>⋯</td><td>1.054</td><td>3.062</td><td>0.335</td><td>condominium</td><td>brick       </td><td>no</td><td>yes</td><td>yes</td><td>no</td><td>no </td></tr>\n",
       "\t<tr><th scope=row>2</th><td>8373aa373dbc3fe7ca3b7434166b8766</td><td> 650000</td><td>1</td><td> 73</td><td>tenement         </td><td>3</td><td>3.24</td><td>0.275</td><td>0.672</td><td>0.367</td><td>⋯</td><td>0.300</td><td>1.857</td><td>0.280</td><td>condominium</td><td>brick       </td><td>no</td><td>no </td><td>no </td><td>no</td><td>no </td></tr>\n",
       "\t<tr><th scope=row>3</th><td>7d0c31d5409caab173571cce3dcdf702</td><td> 590000</td><td>1</td><td> 69</td><td>blockOfFlats     </td><td>3</td><td>3.94</td><td>0.139</td><td>1.336</td><td>0.926</td><td>⋯</td><td>0.071</td><td>0.786</td><td>0.304</td><td>condominium</td><td>brick       </td><td>no</td><td>yes</td><td>no </td><td>no</td><td>yes</td></tr>\n",
       "\t<tr><th scope=row>4</th><td>3eaa36a59b9354206703b5f6b2f2ff1d</td><td> 584999</td><td>1</td><td> 42</td><td>blockOfFlats     </td><td>2</td><td>5.19</td><td>0.209</td><td>1.533</td><td>0.201</td><td>⋯</td><td>0.157</td><td>2.722</td><td>0.257</td><td>condominium</td><td>            </td><td>no</td><td>yes</td><td>no </td><td>no</td><td>no </td></tr>\n",
       "\t<tr><th scope=row>5</th><td>027b30cebbc49faf3094421b741ddd56</td><td> 363000</td><td>1</td><td> 46</td><td>blockOfFlats     </td><td>2</td><td>1.65</td><td>0.250</td><td>0.624</td><td>0.510</td><td>⋯</td><td>0.232</td><td>0.986</td><td>0.273</td><td>condominium</td><td>concreteSlab</td><td>no</td><td>no </td><td>no </td><td>no</td><td>yes</td></tr>\n",
       "\t<tr><th scope=row>6</th><td>27437e173a8c37d5002c0bf69c848b7c</td><td> 717000</td><td>1</td><td> 81</td><td>tenement         </td><td>3</td><td>1.76</td><td>0.083</td><td>0.257</td><td>0.294</td><td>⋯</td><td>0.102</td><td>0.256</td><td>0.301</td><td>condominium</td><td>brick       </td><td>no</td><td>no </td><td>no </td><td>no</td><td>yes</td></tr>\n",
       "</tbody>\n",
       "</table>\n"
      ],
      "text/latex": [
       "A data.frame: 6 × 21\n",
       "\\begin{tabular}{r|lllllllllllllllllllll}\n",
       "  & id & price & month & area & type & rooms & centredistance & schooldistance & clinicdistance & postofficedistance & ⋯ & restaurantdistance & collegedistance & pharmacydistance & ownership & buildingmaterial & hasparkingspace & hasbalcony & haselevator & hassecurity & hasstorageroom\\\\\n",
       "  & <chr> & <int> & <int> & <int> & <chr> & <int> & <dbl> & <dbl> & <dbl> & <dbl> & ⋯ & <dbl> & <dbl> & <dbl> & <chr> & <chr> & <chr> & <chr> & <chr> & <chr> & <chr>\\\\\n",
       "\\hline\n",
       "\t1 & a01d82c9529f98a54d64b9e061c9a73b & 1199999 & 1 & 105 & apartmentBuilding & 4 & 5.06 & 1.080 & 0.949 & 0.623 & ⋯ & 1.054 & 3.062 & 0.335 & condominium & brick        & no & yes & yes & no & no \\\\\n",
       "\t2 & 8373aa373dbc3fe7ca3b7434166b8766 &  650000 & 1 &  73 & tenement          & 3 & 3.24 & 0.275 & 0.672 & 0.367 & ⋯ & 0.300 & 1.857 & 0.280 & condominium & brick        & no & no  & no  & no & no \\\\\n",
       "\t3 & 7d0c31d5409caab173571cce3dcdf702 &  590000 & 1 &  69 & blockOfFlats      & 3 & 3.94 & 0.139 & 1.336 & 0.926 & ⋯ & 0.071 & 0.786 & 0.304 & condominium & brick        & no & yes & no  & no & yes\\\\\n",
       "\t4 & 3eaa36a59b9354206703b5f6b2f2ff1d &  584999 & 1 &  42 & blockOfFlats      & 2 & 5.19 & 0.209 & 1.533 & 0.201 & ⋯ & 0.157 & 2.722 & 0.257 & condominium &              & no & yes & no  & no & no \\\\\n",
       "\t5 & 027b30cebbc49faf3094421b741ddd56 &  363000 & 1 &  46 & blockOfFlats      & 2 & 1.65 & 0.250 & 0.624 & 0.510 & ⋯ & 0.232 & 0.986 & 0.273 & condominium & concreteSlab & no & no  & no  & no & yes\\\\\n",
       "\t6 & 27437e173a8c37d5002c0bf69c848b7c &  717000 & 1 &  81 & tenement          & 3 & 1.76 & 0.083 & 0.257 & 0.294 & ⋯ & 0.102 & 0.256 & 0.301 & condominium & brick        & no & no  & no  & no & yes\\\\\n",
       "\\end{tabular}\n"
      ],
      "text/markdown": [
       "\n",
       "A data.frame: 6 × 21\n",
       "\n",
       "| <!--/--> | id &lt;chr&gt; | price &lt;int&gt; | month &lt;int&gt; | area &lt;int&gt; | type &lt;chr&gt; | rooms &lt;int&gt; | centredistance &lt;dbl&gt; | schooldistance &lt;dbl&gt; | clinicdistance &lt;dbl&gt; | postofficedistance &lt;dbl&gt; | ⋯ ⋯ | restaurantdistance &lt;dbl&gt; | collegedistance &lt;dbl&gt; | pharmacydistance &lt;dbl&gt; | ownership &lt;chr&gt; | buildingmaterial &lt;chr&gt; | hasparkingspace &lt;chr&gt; | hasbalcony &lt;chr&gt; | haselevator &lt;chr&gt; | hassecurity &lt;chr&gt; | hasstorageroom &lt;chr&gt; |\n",
       "|---|---|---|---|---|---|---|---|---|---|---|---|---|---|---|---|---|---|---|---|---|---|\n",
       "| 1 | a01d82c9529f98a54d64b9e061c9a73b | 1199999 | 1 | 105 | apartmentBuilding | 4 | 5.06 | 1.080 | 0.949 | 0.623 | ⋯ | 1.054 | 3.062 | 0.335 | condominium | brick        | no | yes | yes | no | no  |\n",
       "| 2 | 8373aa373dbc3fe7ca3b7434166b8766 |  650000 | 1 |  73 | tenement          | 3 | 3.24 | 0.275 | 0.672 | 0.367 | ⋯ | 0.300 | 1.857 | 0.280 | condominium | brick        | no | no  | no  | no | no  |\n",
       "| 3 | 7d0c31d5409caab173571cce3dcdf702 |  590000 | 1 |  69 | blockOfFlats      | 3 | 3.94 | 0.139 | 1.336 | 0.926 | ⋯ | 0.071 | 0.786 | 0.304 | condominium | brick        | no | yes | no  | no | yes |\n",
       "| 4 | 3eaa36a59b9354206703b5f6b2f2ff1d |  584999 | 1 |  42 | blockOfFlats      | 2 | 5.19 | 0.209 | 1.533 | 0.201 | ⋯ | 0.157 | 2.722 | 0.257 | condominium | <!----> | no | yes | no  | no | no  |\n",
       "| 5 | 027b30cebbc49faf3094421b741ddd56 |  363000 | 1 |  46 | blockOfFlats      | 2 | 1.65 | 0.250 | 0.624 | 0.510 | ⋯ | 0.232 | 0.986 | 0.273 | condominium | concreteSlab | no | no  | no  | no | yes |\n",
       "| 6 | 27437e173a8c37d5002c0bf69c848b7c |  717000 | 1 |  81 | tenement          | 3 | 1.76 | 0.083 | 0.257 | 0.294 | ⋯ | 0.102 | 0.256 | 0.301 | condominium | brick        | no | no  | no  | no | yes |\n",
       "\n"
      ],
      "text/plain": [
       "  id                               price   month area type              rooms\n",
       "1 a01d82c9529f98a54d64b9e061c9a73b 1199999 1     105  apartmentBuilding 4    \n",
       "2 8373aa373dbc3fe7ca3b7434166b8766  650000 1      73  tenement          3    \n",
       "3 7d0c31d5409caab173571cce3dcdf702  590000 1      69  blockOfFlats      3    \n",
       "4 3eaa36a59b9354206703b5f6b2f2ff1d  584999 1      42  blockOfFlats      2    \n",
       "5 027b30cebbc49faf3094421b741ddd56  363000 1      46  blockOfFlats      2    \n",
       "6 27437e173a8c37d5002c0bf69c848b7c  717000 1      81  tenement          3    \n",
       "  centredistance schooldistance clinicdistance postofficedistance ⋯\n",
       "1 5.06           1.080          0.949          0.623              ⋯\n",
       "2 3.24           0.275          0.672          0.367              ⋯\n",
       "3 3.94           0.139          1.336          0.926              ⋯\n",
       "4 5.19           0.209          1.533          0.201              ⋯\n",
       "5 1.65           0.250          0.624          0.510              ⋯\n",
       "6 1.76           0.083          0.257          0.294              ⋯\n",
       "  restaurantdistance collegedistance pharmacydistance ownership  \n",
       "1 1.054              3.062           0.335            condominium\n",
       "2 0.300              1.857           0.280            condominium\n",
       "3 0.071              0.786           0.304            condominium\n",
       "4 0.157              2.722           0.257            condominium\n",
       "5 0.232              0.986           0.273            condominium\n",
       "6 0.102              0.256           0.301            condominium\n",
       "  buildingmaterial hasparkingspace hasbalcony haselevator hassecurity\n",
       "1 brick            no              yes        yes         no         \n",
       "2 brick            no              no         no          no         \n",
       "3 brick            no              yes        no          no         \n",
       "4                  no              yes        no          no         \n",
       "5 concreteSlab     no              no         no          no         \n",
       "6 brick            no              no         no          no         \n",
       "  hasstorageroom\n",
       "1 no            \n",
       "2 no            \n",
       "3 yes           \n",
       "4 no            \n",
       "5 yes           \n",
       "6 yes           "
      ]
     },
     "metadata": {},
     "output_type": "display_data"
    }
   ],
   "source": [
    "head(df)"
   ]
  },
  {
   "cell_type": "code",
   "execution_count": null,
   "id": "f6959a62-9810-46db-b6fe-167661a4ae82",
   "metadata": {},
   "outputs": [],
   "source": [
    "df <- df %>% mutate(area2 = area^2)"
   ]
  },
  {
   "cell_type": "code",
   "execution_count": 23,
   "id": "a6795a0d-d37f-4e29-b93e-3796749cfb1c",
   "metadata": {},
   "outputs": [],
   "source": [
    "df <- df %>%\n",
    "  mutate(\n",
    "    hasparkingspace = ifelse(hasparkingspace == \"yes\", 1, 0),\n",
    "    hasbalcony      = ifelse(hasbalcony == \"yes\", 1, 0),\n",
    "    haselevator     = ifelse(haselevator == \"yes\", 1, 0),\n",
    "    hassecurity     = ifelse(hassecurity == \"yes\", 1, 0),\n",
    "    hasstorageroom  = ifelse(hasstorageroom == \"yes\", 1, 0)\n",
    "  )"
   ]
  },
  {
   "cell_type": "code",
   "execution_count": 26,
   "id": "eed4d3d3-3c70-4bdb-92e2-d5dcf50eb5ad",
   "metadata": {},
   "outputs": [],
   "source": [
    "df <- df %>%\n",
    "  mutate(digito = area %% 10)\n",
    "for (d in 0:9) {\n",
    "  varname <- paste0(\"end_\", d)\n",
    "  df[[varname]] <- as.integer(df$digito == d)  \n",
    "}"
   ]
  },
  {
   "cell_type": "code",
   "execution_count": null,
   "id": "3064bf97-03fe-461d-af33-b45e788ab5d3",
   "metadata": {},
   "outputs": [],
   "source": []
  }
 ],
 "metadata": {
  "kernelspec": {
   "display_name": "R",
   "language": "R",
   "name": "ir"
  },
  "language_info": {
   "codemirror_mode": "r",
   "file_extension": ".r",
   "mimetype": "text/x-r-source",
   "name": "R",
   "pygments_lexer": "r",
   "version": "4.4.3"
  }
 },
 "nbformat": 4,
 "nbformat_minor": 5
}
